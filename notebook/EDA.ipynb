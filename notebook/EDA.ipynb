{
 "cells": [
  {
   "cell_type": "markdown",
   "metadata": {},
   "source": [
    "| Feature          | Description                                                |\n",
    "|------------------|------------------------------------------------------------|\n",
    "| step             | Tells about the unit of time                               |\n",
    "| type             | Type of transaction done                                   |\n",
    "| amount           | The total amount of transaction                             |\n",
    "| nameOirg          | Account that starts the transaction                         |\n",
    "| oldbalanceOrg    | Balance of the account of sender before transaction         |\n",
    "| newbalanceOrg    | Balance of the account of sender after transaction          |\n",
    "| nameDest         | Account that receives the transaction                       |\n",
    "| oldbalanceDest   | Balance of the account of receiver before transaction       |\n",
    "| newbalanceDest   | Balance of the account of receiver after transaction        |\n",
    "| isFraud          | The value to be predicted i.e. 0 or 1                       |\n"
   ]
  },
  {
   "cell_type": "code",
   "execution_count": 18,
   "metadata": {},
   "outputs": [],
   "source": [
    "import numpy as np\n",
    "import pandas as pd\n",
    "import matplotlib.pyplot as plt\n",
    "import seaborn as sns\n",
    "%matplotlib inline"
   ]
  }
 ],
 "metadata": {
  "kernelspec": {
   "display_name": "venv",
   "language": "python",
   "name": "python3"
  },
  "language_info": {
   "codemirror_mode": {
    "name": "ipython",
    "version": 3
   },
   "file_extension": ".py",
   "mimetype": "text/x-python",
   "name": "python",
   "nbconvert_exporter": "python",
   "pygments_lexer": "ipython3",
   "version": "3.11.9"
  }
 },
 "nbformat": 4,
 "nbformat_minor": 2
}
